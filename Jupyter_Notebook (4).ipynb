{
 "cells": [
  {
   "cell_type": "markdown",
   "metadata": {},
   "source": [
    "<center>\n",
    "    <img src=\"https://cf-courses-data.s3.us.cloud-object-storage.appdomain.cloud/IBMDeveloperSkillsNetwork-DS0105EN-SkillsNetwork/labs/Module2/images/SN_web_lightmode.png\" width=\"300\" alt=\"cognitiveclass.ai logo\">\n",
    "</center>\n"
   ]
  },
  {
   "cell_type": "markdown",
   "metadata": {},
   "source": [
    "#### Add your code below following the instructions given in the course\n"
   ]
  },
  {
   "cell_type": "markdown",
   "metadata": {},
   "source": [
    "# Data Science : Jupyter Notebook - First Exercise"
   ]
  },
  {
   "cell_type": "markdown",
   "metadata": {},
   "source": [
    "####Introduction: Our aspire is to learn data driven Analytical job bringing out insight from mass volume of data."
   ]
  },
  {
   "cell_type": "markdown",
   "metadata": {},
   "source": [
    "***\n",
    "### Data science Languages\n",
    "* Python\n",
    "* R\n",
    "* SQL\n",
    "* SAS\n",
    "* Julia\n",
    "* Scala\n",
    "* Stata\n",
    "* MATLAB\n",
    "***"
   ]
  },
  {
   "cell_type": "markdown",
   "metadata": {},
   "source": [
    "***\n",
    "#### Data Science Languages - Given below some Libraries\n",
    "*Python\n",
    "* Data manipulation: pandas and NumPy\n",
    "* Visualizations: Matplotlib and seaborn\n",
    "* Hypothesis testing and model fitting: SciPy, scikit-learn, and statsmodels\n",
    "\n",
    "*R\n",
    "1. Collection of data science packages: tidyverse\n",
    "2. Data manipulation: dplyr (also contained in tidyverse)\n",
    "3. Visualizations: ggplot2 (also contained in tidyverse)\n",
    "4. Classification and regression: caret\n",
    "***"
   ]
  },
  {
   "cell_type": "markdown",
   "metadata": {},
   "source": [
    "***\n",
    "### Data Science Tools\n",
    "1. Data Management - MySQL, PostgreSQL\n",
    "2. No SQL Database - MongoDB Apache CouchDB\n",
    "3. File based Tool - Hadoop file System\n",
    "4. Data Integration and Transformation - Apache Airflow, Kubeflow, Apache Kafka, Apache nifi, Spark SQl, Node Red\n",
    "5. Data Visualisation - Hue, Kibana, Superset\n",
    "6. Model Deployment - Prediction IO, Seldon, mleap, TensorFlow Service, TensorFlow Lite, TensorFlow.JS\n",
    "7. Model Monitoring and Assessment - ModelDB, Prometheus, IBM Research Trusted AI, AI Explainability 360\n",
    "8. Code Assest Managment - GitHub, Git, GitLab, Bitbucket\n",
    "9. Data Assest Management - Apache Atlas, ODPI EGERIA, KILO\n",
    "10. Development Environment - Jupyter Notebook, Jupyter Lab, Apache Zeppelin, R Studio, Spyder\n",
    "11. Execution Environment - Apache Spark, Flink, riselab Ray\n",
    "\n",
    "Other Fully integrated Visual Tools are KNIME & Orange\n",
    "***\n"
   ]
  },
  {
   "cell_type": "markdown",
   "metadata": {},
   "source": [
    "In the cell will work it out sample simple Arithmetic equations"
   ]
  },
  {
   "cell_type": "code",
   "execution_count": 8,
   "metadata": {},
   "outputs": [
    {
     "name": "stdout",
     "output_type": "stream",
     "text": [
      "90\n"
     ]
    }
   ],
   "source": [
    "a=10\n",
    "b=20\n",
    "c=3\n",
    "d=c*(a+b)\n",
    "print(d)"
   ]
  },
  {
   "cell_type": "code",
   "execution_count": 7,
   "metadata": {},
   "outputs": [
    {
     "data": {
      "text/plain": [
       "0.6666666666666666"
      ]
     },
     "execution_count": 7,
     "metadata": {},
     "output_type": "execute_result"
    }
   ],
   "source": [
    "(40/60)*1"
   ]
  },
  {
   "cell_type": "markdown",
   "metadata": {},
   "source": [
    "### Objectives\n",
    "Not clear with question. Hence listed the objectives of Module 4\n",
    "\n",
    "* Create and share a public Jupyter notebook, in any language, in Watson Studio and create markdown cells for peer review.\n",
    "* Evaluate and grade final assignments submitted by fellow learners using the given rubric. Provide constructive feedback and offer ideas and suggestions that fellow learners can apply right away."
   ]
  },
  {
   "cell_type": "markdown",
   "metadata": {},
   "source": [
    "*Author Name:* **Mohan CK**"
   ]
  }
 ],
 "metadata": {
  "kernelspec": {
   "display_name": "Python",
   "language": "python",
   "name": "conda-env-python-py"
  },
  "language_info": {
   "codemirror_mode": {
    "name": "ipython",
    "version": 3
   },
   "file_extension": ".py",
   "mimetype": "text/x-python",
   "name": "python",
   "nbconvert_exporter": "python",
   "pygments_lexer": "ipython3",
   "version": "3.7.12"
  },
  "toc-autonumbering": false,
  "toc-showcode": false
 },
 "nbformat": 4,
 "nbformat_minor": 4
}
